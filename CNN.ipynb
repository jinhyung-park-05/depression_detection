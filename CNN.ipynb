{
 "cells": [
  {
   "cell_type": "markdown",
   "metadata": {},
   "source": [
    "If the Glove file is not in the directory. Otherwise skip the command line section."
   ]
  },
  {
   "cell_type": "code",
   "execution_count": 1,
   "metadata": {
    "scrolled": true
   },
   "outputs": [
    {
     "name": "stdout",
     "output_type": "stream",
     "text": [
      "^C\r\n"
     ]
    }
   ],
   "source": [
    "!wget \"http://nlp.stanford.edu/data/glove.twitter.27B.zip\"\n",
    "!unzip -j glove.twitter.27B.zip"
   ]
  },
  {
   "cell_type": "code",
   "execution_count": 2,
   "metadata": {},
   "outputs": [
    {
     "name": "stderr",
     "output_type": "stream",
     "text": [
      "Using TensorFlow backend.\n"
     ]
    }
   ],
   "source": [
    "import pandas as pd\n",
    "import glob\n",
    "import json\n",
    "import numpy as np\n",
    "import nltk\n",
    "from keras.preprocessing.text import Tokenizer\n",
    "from keras.preprocessing.sequence import pad_sequences\n",
    "from keras.preprocessing.text import one_hot\n",
    "from keras.models import Sequential\n",
    "from keras.layers import Dense\n",
    "from keras.layers import Flatten\n",
    "from keras.layers import Conv1D\n",
    "from keras.layers import MaxPool1D\n",
    "from keras.layers import Dropout\n",
    "from keras.layers.embeddings import Embedding\n",
    "from sklearn.model_selection import train_test_split\n",
    "from sklearn.model_selection import StratifiedKFold"
   ]
  },
  {
   "cell_type": "markdown",
   "metadata": {},
   "source": [
    "Import cleaned data: this includes all tweets that have been classified (both manually and by an automated labeling service):"
   ]
  },
  {
   "cell_type": "code",
   "execution_count": 7,
   "metadata": {},
   "outputs": [
    {
     "data": {
      "text/html": [
       "<div>\n",
       "<style scoped>\n",
       "    .dataframe tbody tr th:only-of-type {\n",
       "        vertical-align: middle;\n",
       "    }\n",
       "\n",
       "    .dataframe tbody tr th {\n",
       "        vertical-align: top;\n",
       "    }\n",
       "\n",
       "    .dataframe thead th {\n",
       "        text-align: right;\n",
       "    }\n",
       "</style>\n",
       "<table border=\"1\" class=\"dataframe\">\n",
       "  <thead>\n",
       "    <tr style=\"text-align: right;\">\n",
       "      <th></th>\n",
       "      <th>label</th>\n",
       "      <th>text</th>\n",
       "    </tr>\n",
       "  </thead>\n",
       "  <tbody>\n",
       "    <tr>\n",
       "      <th>0</th>\n",
       "      <td>0.0</td>\n",
       "      <td>in my personal opinion if you plan on committi...</td>\n",
       "    </tr>\n",
       "    <tr>\n",
       "      <th>1</th>\n",
       "      <td>0.0</td>\n",
       "      <td>they really going to allow the hashtag clinton...</td>\n",
       "    </tr>\n",
       "    <tr>\n",
       "      <th>2</th>\n",
       "      <td>0.0</td>\n",
       "      <td>that feel when you cant wait for work to be ov...</td>\n",
       "    </tr>\n",
       "    <tr>\n",
       "      <th>3</th>\n",
       "      <td>0.0</td>\n",
       "      <td>so let it be said that amonute matoaka powhata...</td>\n",
       "    </tr>\n",
       "    <tr>\n",
       "      <th>4</th>\n",
       "      <td>3.0</td>\n",
       "      <td>also your turn to die is now officially finish...</td>\n",
       "    </tr>\n",
       "  </tbody>\n",
       "</table>\n",
       "</div>"
      ],
      "text/plain": [
       "   label                                               text\n",
       "0    0.0  in my personal opinion if you plan on committi...\n",
       "1    0.0  they really going to allow the hashtag clinton...\n",
       "2    0.0  that feel when you cant wait for work to be ov...\n",
       "3    0.0  so let it be said that amonute matoaka powhata...\n",
       "4    3.0  also your turn to die is now officially finish..."
      ]
     },
     "execution_count": 7,
     "metadata": {},
     "output_type": "execute_result"
    }
   ],
   "source": [
    "tweets = pd.read_csv('cleaned_data.csv')[['label','text']]\n",
    "tweets.text = tweets.text.astype(str)\n",
    "tweets.head()"
   ]
  },
  {
   "cell_type": "markdown",
   "metadata": {},
   "source": [
    "Clean up by dropping any NaN vals, label/clean up columns:"
   ]
  },
  {
   "cell_type": "code",
   "execution_count": 8,
   "metadata": {},
   "outputs": [
    {
     "data": {
      "text/plain": [
       "(11538, 2)"
      ]
     },
     "execution_count": 8,
     "metadata": {},
     "output_type": "execute_result"
    }
   ],
   "source": [
    "tweets = tweets.dropna()\n",
    "tweets.shape"
   ]
  },
  {
   "cell_type": "markdown",
   "metadata": {},
   "source": [
    "Use GloVe pretrained embeddings to seed embedding layer weights. Load GloVe weights trained on twitter dataset:"
   ]
  },
  {
   "cell_type": "code",
   "execution_count": 9,
   "metadata": {},
   "outputs": [
    {
     "name": "stdout",
     "output_type": "stream",
     "text": [
      "Loaded 1193514 word vectors.\n"
     ]
    }
   ],
   "source": [
    "embeddings_idx = dict()\n",
    "glove_file = open('glove.twitter.27B.100d.txt')\n",
    "for line in glove_file:\n",
    "    values = line.split()\n",
    "    word = values[0]\n",
    "    coefs = np.asarray(values[1:], dtype='float32')\n",
    "    embeddings_idx[word] = coefs\n",
    "glove_file.close()\n",
    "print('Loaded %s word vectors.' % len(embeddings_idx))"
   ]
  },
  {
   "cell_type": "markdown",
   "metadata": {},
   "source": [
    "For simplicity and due to the sparsity of the dataset, clump \"depressed\" and \"suicidal\" labels into one category (can refine this in future models/iteration; for first iteration, use binary classification):"
   ]
  },
  {
   "cell_type": "code",
   "execution_count": 12,
   "metadata": {},
   "outputs": [
    {
     "data": {
      "text/plain": [
       "(11538,)"
      ]
     },
     "execution_count": 12,
     "metadata": {},
     "output_type": "execute_result"
    }
   ],
   "source": [
    "text = np.asarray(tweets.text)\n",
    "label_binary = tweets.label.replace(to_replace=3, value=1)\n",
    "label = np.asarray(tweets.label)\n",
    "\n",
    "np.unique(label_binary, return_counts = True)\n",
    "label_binary.shape"
   ]
  },
  {
   "cell_type": "markdown",
   "metadata": {},
   "source": [
    "Tokenize tweet texts. Use a max sentence length of 50 (with char limit of 280 and cleaning, this seems reasonable - by observation, most tweets still require padding), and pad all tweets out to this length:"
   ]
  },
  {
   "cell_type": "code",
   "execution_count": 13,
   "metadata": {},
   "outputs": [],
   "source": [
    "tokenizer = Tokenizer()\n",
    "tokenizer.fit_on_texts(text)\n",
    "vocab_size = len(tokenizer.word_index) + 1\n",
    "# integer encode the documents\n",
    "encoded = tokenizer.texts_to_sequences(text)\n",
    "# pad documents to a max length of 4 words\n",
    "max_length = 50\n",
    "padded_tweets = pad_sequences(encoded, maxlen=max_length, padding='post')"
   ]
  },
  {
   "cell_type": "code",
   "execution_count": null,
   "metadata": {},
   "outputs": [],
   "source": []
  },
  {
   "cell_type": "markdown",
   "metadata": {},
   "source": [
    "Split into train/test set of 90%/10%. These sets end up going unused, due to the cross fold validation, which splits the full dataset many times over."
   ]
  },
  {
   "cell_type": "code",
   "execution_count": 14,
   "metadata": {},
   "outputs": [],
   "source": [
    "text_train, text_test, label_train, label_test = train_test_split(padded_tweets, label_binary, test_size = 0.1, random_state = 0)"
   ]
  },
  {
   "cell_type": "markdown",
   "metadata": {},
   "source": [
    "Split train set into train/validate. These sets end up going unused, due to the cross fold validation. "
   ]
  },
  {
   "cell_type": "code",
   "execution_count": 15,
   "metadata": {},
   "outputs": [],
   "source": [
    "text_train, text_val, label_train, label_val = train_test_split(text_train, label_train, test_size = 0.2, random_state = 0)"
   ]
  },
  {
   "cell_type": "markdown",
   "metadata": {},
   "source": [
    "Include a function to calculate recall, as this may provide a more insightful metric for our model than accuracy, given the distribution of labels:"
   ]
  },
  {
   "cell_type": "code",
   "execution_count": 16,
   "metadata": {},
   "outputs": [],
   "source": [
    "from keras import backend as K\n",
    "\n",
    "def recall_m(y_true, y_pred):\n",
    "        true_positives = K.sum(K.round(K.clip(y_true * y_pred, 0, 1)))\n",
    "        possible_positives = K.sum(K.round(K.clip(y_true, 0, 1)))\n",
    "        recall = true_positives / (possible_positives + K.epsilon())\n",
    "        return recall"
   ]
  },
  {
   "cell_type": "markdown",
   "metadata": {},
   "source": [
    "This function will print a history graph, including the training accuracy/validation accuracy/recall, and training loss/valication loss:"
   ]
  },
  {
   "cell_type": "code",
   "execution_count": 17,
   "metadata": {},
   "outputs": [],
   "source": [
    "def print_history_graph(history):\n",
    "    import matplotlib.pyplot as plt\n",
    "    %matplotlib inline\n",
    "    acc = history.history['acc']\n",
    "    val_acc = history.history['val_acc']\n",
    "    loss = history.history['loss']\n",
    "    val_loss = history.history['val_loss']\n",
    "    recall = history.history['val_recall_m']\n",
    "    epochs = range(1, len(acc)+1)\n",
    "    \n",
    "    print(str(history))\n",
    "    plt.plot(epochs, acc, 'bo', label='Training acc')\n",
    "    plt.plot(epochs, val_acc, 'b', label='Validation acc')\n",
    "    plt.plot(epochs, recall, 'r', label='Recall')\n",
    "    plt.title('Training and Validation Accuracy')\n",
    "    plt.xlabel('Epochs')\n",
    "    plt.ylabel('Acc')\n",
    "    plt.legend()\n",
    "    plt.show()\n",
    "\n",
    "    \n",
    "    plt.plot(epochs, loss, 'bo', label='Training loss')\n",
    "    plt.plot(epochs, val_loss, 'b', label='Validation loss')\n",
    "    plt.title('Training and Validation Loss')\n",
    "    plt.xlabel('Epochs')\n",
    "    plt.ylabel('Loss')\n",
    "    plt.legend()\n",
    "    plt.show()"
   ]
  },
  {
   "cell_type": "markdown",
   "metadata": {},
   "source": [
    "Initialize embedding matrix to seed embedding weights from the loaded GloVe embeddings:"
   ]
  },
  {
   "cell_type": "code",
   "execution_count": 18,
   "metadata": {},
   "outputs": [],
   "source": [
    "embedding_matrix = np.zeros((vocab_size, 100))\n",
    "for word, i in tokenizer.word_index.items():\n",
    "    embedding_vector = embeddings_idx.get(word)\n",
    "    if embedding_vector is not None:\n",
    "        embedding_matrix[i] = embedding_vector"
   ]
  },
  {
   "cell_type": "markdown",
   "metadata": {},
   "source": [
    "Build embedding layer; make trainable based on our own small dataset, so embeddings are more specific to our text data. We could play with trainable vs. not trainable. Here we are using 100-dim GloVe vectors, weights = weights from those vectors, and 50-word sentences."
   ]
  },
  {
   "cell_type": "code",
   "execution_count": 19,
   "metadata": {},
   "outputs": [
    {
     "name": "stderr",
     "output_type": "stream",
     "text": [
      "WARNING: Logging before flag parsing goes to stderr.\n",
      "W0803 22:57:18.968810 4633568704 deprecation_wrapper.py:119] From /Library/Frameworks/Python.framework/Versions/3.7/lib/python3.7/site-packages/keras/backend/tensorflow_backend.py:74: The name tf.get_default_graph is deprecated. Please use tf.compat.v1.get_default_graph instead.\n",
      "\n"
     ]
    }
   ],
   "source": [
    "embedding_layer_fixed = Embedding(vocab_size, 100, weights=[embedding_matrix], input_length=50, trainable=False)\n",
    "embedding_layer_trainable = Embedding(vocab_size, 100, weights=[embedding_matrix], input_length=50, trainable=True)"
   ]
  },
  {
   "cell_type": "markdown",
   "metadata": {},
   "source": [
    "Define a function to train a model, given a model that has already been defined. This training contained in a function will be useful for cross-fold validation, defined in a function later. "
   ]
  },
  {
   "cell_type": "code",
   "execution_count": 20,
   "metadata": {},
   "outputs": [],
   "source": [
    "from keras import optimizers\n",
    "from keras.callbacks import EarlyStopping\n",
    "adam = optimizers.adam()\n",
    "callbacks = [EarlyStopping(monitor='val_loss', patience=2)]\n",
    "\n",
    "\n",
    "def train_model(model, text_train=text_train, label_train=label_train, text_val=text_val, label_val=label_val, callbacks = callbacks, verbose = 1, class_weight = None):\n",
    "        history = model.fit(text_train, label_train, batch_size = 32, validation_data = (text_val, label_val), epochs = 50, callbacks = callbacks, verbose = verbose, class_weight = class_weight)\n",
    "        return history"
   ]
  },
  {
   "cell_type": "markdown",
   "metadata": {},
   "source": [
    "Create lists to keep track of accuracy of each model, recall of each model, along with model names, for comparison in model analysis:"
   ]
  },
  {
   "cell_type": "code",
   "execution_count": 21,
   "metadata": {},
   "outputs": [],
   "source": [
    "model_names = []\n",
    "model_acc = []\n",
    "model_recall = []\n",
    "model_acc_conf = []\n",
    "model_recall_conf = []"
   ]
  },
  {
   "cell_type": "markdown",
   "metadata": {},
   "source": [
    "K-fold cross validation was used to establish more confidence in the validation accuracy and validation recall for the model; the function below defined as `cross_val(model)` calculates an average validation accuracy and validation recall for the model over a 10-way split of the data, along with a confidence interval. \n",
    "\n",
    "Add the data for each model along with model names, so that models can be compared, to lists. "
   ]
  },
  {
   "cell_type": "code",
   "execution_count": 22,
   "metadata": {},
   "outputs": [],
   "source": [
    "skf = StratifiedKFold(n_splits = 10)\n",
    "\n",
    "def cross_val(model, text, label, callbacks = callbacks, skf = skf, verbose = 0, class_weight = None):\n",
    "    cvaccscores = []\n",
    "    cvrecscores = []\n",
    "    for TRAIN, TEST in skf.split(text, label):\n",
    "        text_train, text_val = text[TRAIN], text[TEST]\n",
    "        label_train, label_val = label[TRAIN], label[TEST]\n",
    "        history = train_model(model[0], verbose = verbose, class_weight = class_weight)\n",
    "        val_recall = history.history['val_recall_m'][-1]*100\n",
    "        val_acc = history.history['val_acc'][-1]*100\n",
    "        cvrecscores.append(val_recall)\n",
    "        cvaccscores.append(val_acc)\n",
    "    print(\"Acc: %.2f%% (+/- %.2f%%)\" % (np.mean(cvaccscores), np.std(cvaccscores)))\n",
    "    print(\"Recall: %.2f%% (+/- %.2f%%)\" % (np.mean(cvrecscores), np.std(cvrecscores)))\n",
    "    model_names.append(model[1])\n",
    "    model_acc.append(np.mean(cvaccscores))\n",
    "    model_acc_conf.append(np.std(cvaccscores))\n",
    "    model_recall.append(np.mean(cvrecscores))\n",
    "    model_recall_conf.append(np.std(cvrecscores))\n",
    "        "
   ]
  },
  {
   "cell_type": "markdown",
   "metadata": {},
   "source": [
    "Now, each CNN model can be defined, and variations on each model can be defined in each function. Each function building each model variation returns the model, and the name of the model, for analysis later. \n",
    "\n",
    "## Stacking layers: One layer -> four layers, starting with a kernel size of 2, reducing # of filters at each layer:"
   ]
  },
  {
   "cell_type": "code",
   "execution_count": 26,
   "metadata": {},
   "outputs": [],
   "source": [
    "def cnn_one_layer():\n",
    "    model = None\n",
    "    model = Sequential()\n",
    "    model.add(embedding_layer_fixed)\n",
    "    model.add(Conv1D(128, 2, activation='relu'))\n",
    "    model.add(MaxPool1D(pool_size=2))\n",
    "    model.add(Flatten())\n",
    "    model.add(Dense(32, activation = 'relu'))\n",
    "    model.add(Dense(1,activation='sigmoid'))\n",
    "    model.compile(optimizer=adam, loss='binary_crossentropy', metrics=['acc', recall_m])\n",
    "    return model, 'Single Layer CNN'"
   ]
  },
  {
   "cell_type": "code",
   "execution_count": 27,
   "metadata": {},
   "outputs": [],
   "source": [
    "def cnn_two_layer():\n",
    "    model = None\n",
    "    model = Sequential()\n",
    "    model.add(embedding_layer_fixed)\n",
    "    model.add(Conv1D(128, 2, activation='relu'))\n",
    "    model.add(MaxPool1D(pool_size=2))\n",
    "    model.add(Conv1D(64, 2, activation='relu'))\n",
    "    model.add(MaxPool1D(pool_size=2))\n",
    "    model.add(Flatten())\n",
    "    model.add(Dense(32, activation = 'relu'))\n",
    "    model.add(Dense(1,activation='sigmoid'))\n",
    "    model.compile(optimizer=adam, loss='binary_crossentropy', metrics=['acc', recall_m])\n",
    "    return model, 'Two Layer CNN'"
   ]
  },
  {
   "cell_type": "code",
   "execution_count": 28,
   "metadata": {},
   "outputs": [],
   "source": [
    "def cnn_three_layer():\n",
    "    model = None\n",
    "    model = Sequential()\n",
    "    model.add(embedding_layer_fixed)\n",
    "    model.add(Conv1D(128, 2, activation='relu'))\n",
    "    model.add(MaxPool1D(pool_size=2))\n",
    "    model.add(Conv1D(64, 2, activation='relu'))\n",
    "    model.add(MaxPool1D(pool_size=2))\n",
    "    model.add(Conv1D(32, 2, activation='relu'))\n",
    "    model.add(MaxPool1D(pool_size=2))\n",
    "    model.add(Flatten())\n",
    "    model.add(Dense(32, activation = 'relu'))\n",
    "    model.add(Dense(1,activation='sigmoid'))\n",
    "    model.compile(optimizer=adam, loss='binary_crossentropy', metrics=['acc', recall_m])\n",
    "    return model, 'Three Layer CNN'"
   ]
  },
  {
   "cell_type": "code",
   "execution_count": 29,
   "metadata": {},
   "outputs": [],
   "source": [
    "def cnn_four_layer():\n",
    "    model = None\n",
    "    model = Sequential()\n",
    "    model.add(embedding_layer_fixed)\n",
    "    model.add(Conv1D(128, 2, activation='relu'))\n",
    "    model.add(MaxPool1D(pool_size=2))\n",
    "    model.add(Conv1D(64, 2, activation='relu'))\n",
    "    model.add(MaxPool1D(pool_size=2))\n",
    "    model.add(Conv1D(32, 2, activation='relu'))\n",
    "    model.add(MaxPool1D(pool_size=2))\n",
    "    model.add(Conv1D(16, 2, activation='relu'))\n",
    "    model.add(MaxPool1D(pool_size=2))\n",
    "    model.add(Flatten())\n",
    "    model.add(Dense(32, activation = 'relu'))\n",
    "    model.add(Dense(1,activation='sigmoid'))\n",
    "    model.compile(optimizer=adam, loss='binary_crossentropy', metrics=['acc', recall_m])\n",
    "    return model, 'Four Layer CNN'"
   ]
  },
  {
   "cell_type": "markdown",
   "metadata": {},
   "source": [
    "## Also take a look at four layers, with consistent (but much fewer) # of filters at each layer:"
   ]
  },
  {
   "cell_type": "code",
   "execution_count": 30,
   "metadata": {},
   "outputs": [],
   "source": [
    "def cnn_four_layer_less():\n",
    "    model = None\n",
    "    model = Sequential()\n",
    "    model.add(embedding_layer_fixed)\n",
    "    model.add(Conv1D(32, 2, activation='relu'))\n",
    "    model.add(MaxPool1D(pool_size=2))\n",
    "    model.add(Conv1D(32, 2, activation='relu'))\n",
    "    model.add(MaxPool1D(pool_size=2))\n",
    "    model.add(Conv1D(32, 2, activation='relu'))\n",
    "    model.add(MaxPool1D(pool_size=2))\n",
    "    model.add(Conv1D(32, 2, activation='relu'))\n",
    "    model.add(MaxPool1D(pool_size=2))\n",
    "    model.add(Flatten())\n",
    "    model.add(Dense(32, activation = 'relu'))\n",
    "    model.add(Dense(1,activation='sigmoid'))\n",
    "    model.compile(optimizer=adam, loss='binary_crossentropy', metrics=['acc', recall_m])\n",
    "    return model, 'Four Layer CNN, Reduced #Filters'\n"
   ]
  },
  {
   "cell_type": "markdown",
   "metadata": {},
   "source": [
    "## Four layers, with trainable embeddings:"
   ]
  },
  {
   "cell_type": "code",
   "execution_count": 31,
   "metadata": {},
   "outputs": [],
   "source": [
    "def cnn_four_layer_trainable():\n",
    "    model = None\n",
    "    model = Sequential()\n",
    "    model.add(embedding_layer_fixed)\n",
    "    model.add(Conv1D(128, 2, activation='relu'))\n",
    "    model.add(MaxPool1D(pool_size=2))\n",
    "    model.add(Conv1D(64, 2, activation='relu'))\n",
    "    model.add(MaxPool1D(pool_size=2))\n",
    "    model.add(Conv1D(32, 2, activation='relu'))\n",
    "    model.add(MaxPool1D(pool_size=2))\n",
    "    model.add(Conv1D(16, 2, activation='relu'))\n",
    "    model.add(MaxPool1D(pool_size=2))\n",
    "    model.add(Flatten())\n",
    "    model.add(Dense(32, activation = 'relu'))\n",
    "    model.add(Dense(1,activation='sigmoid'))\n",
    "    model.compile(optimizer=adam, loss='binary_crossentropy', metrics=['acc', recall_m])\n",
    "    return model, 'Four Layer CNN, Trainable Embeddings'\n"
   ]
  },
  {
   "cell_type": "markdown",
   "metadata": {},
   "source": [
    "## Kernel size = 3:\n",
    "No improvement is seen by enlarging the kernel size (filter size) from 2 -> 3, despite the number of layers"
   ]
  },
  {
   "cell_type": "code",
   "execution_count": 32,
   "metadata": {},
   "outputs": [],
   "source": [
    "def cnn_one_layer_k3():\n",
    "    model = None\n",
    "    model = Sequential()\n",
    "    model.add(embedding_layer_fixed)\n",
    "    model.add(Conv1D(128, 2, activation='relu'))\n",
    "    model.add(MaxPool1D(pool_size=2))\n",
    "    model.add(Flatten())\n",
    "    model.add(Dense(32, activation = 'relu'))\n",
    "    model.add(Dense(1,activation='sigmoid'))\n",
    "    model.compile(optimizer=adam, loss='binary_crossentropy', metrics=['acc', recall_m])\n",
    "    return model, 'Kernel Size = 3, 1 Layer CNN'"
   ]
  },
  {
   "cell_type": "code",
   "execution_count": 33,
   "metadata": {},
   "outputs": [],
   "source": [
    "def cnn_two_layer_k3():\n",
    "    model = None\n",
    "    model = Sequential()\n",
    "    model.add(embedding_layer_fixed)\n",
    "    model.add(Conv1D(128, 3, activation='relu'))\n",
    "    model.add(MaxPool1D(pool_size=2))\n",
    "    model.add(Conv1D(64, 3, activation='relu'))\n",
    "    model.add(MaxPool1D(pool_size=2))\n",
    "    model.add(Flatten())\n",
    "    model.add(Dense(32, activation = 'relu'))\n",
    "    model.add(Dense(1,activation='sigmoid'))\n",
    "    model.compile(optimizer=adam, loss='binary_crossentropy', metrics=['acc', recall_m])\n",
    "    return model, 'Kernel Size = 3, 2 Layer CNN'"
   ]
  },
  {
   "cell_type": "code",
   "execution_count": 34,
   "metadata": {},
   "outputs": [],
   "source": [
    "def cnn_three_layer_k3():\n",
    "    model = None\n",
    "    model = Sequential()\n",
    "    model.add(embedding_layer_fixed)\n",
    "    model.add(Conv1D(128, 3, activation='relu'))\n",
    "    model.add(MaxPool1D(pool_size=2))\n",
    "    model.add(Conv1D(64, 3, activation='relu'))\n",
    "    model.add(MaxPool1D(pool_size=2))\n",
    "    model.add(Conv1D(32, 3, activation='relu'))\n",
    "    model.add(MaxPool1D(pool_size=2))\n",
    "    model.add(Flatten())\n",
    "    model.add(Dense(32, activation = 'relu'))\n",
    "    model.add(Dense(1,activation='sigmoid'))\n",
    "    model.compile(optimizer=adam, loss='binary_crossentropy', metrics=['acc', recall_m])\n",
    "    return model, 'Kernel Size = 3, 3 Layer CNN'"
   ]
  },
  {
   "cell_type": "code",
   "execution_count": 35,
   "metadata": {},
   "outputs": [],
   "source": [
    "def cnn_four_layer_k3():\n",
    "    model = None\n",
    "    model = Sequential()\n",
    "    model.add(embedding_layer_fixed)\n",
    "    model.add(Conv1D(128, 3, activation='relu'))\n",
    "    model.add(MaxPool1D(pool_size=2))\n",
    "    model.add(Conv1D(64, 3, activation='relu'))\n",
    "    model.add(MaxPool1D(pool_size=2))\n",
    "    model.add(Conv1D(32, 3, activation='relu'))\n",
    "    model.add(MaxPool1D(pool_size=2))\n",
    "    model.add(Conv1D(16, 3, activation='relu'))\n",
    "    model.add(MaxPool1D(pool_size=2))\n",
    "    model.add(Flatten())\n",
    "    model.add(Dense(32, activation = 'relu'))\n",
    "    model.add(Dense(1,activation='sigmoid'))\n",
    "    model.compile(optimizer=adam, loss='binary_crossentropy', metrics=['acc', recall_m])\n",
    "    return model, 'Kernel Size = 3, 4 Layer CNN'\n"
   ]
  },
  {
   "cell_type": "code",
   "execution_count": null,
   "metadata": {},
   "outputs": [],
   "source": []
  },
  {
   "cell_type": "code",
   "execution_count": 36,
   "metadata": {},
   "outputs": [],
   "source": [
    "def cnn_four_layer_k3_less():\n",
    "    model = None\n",
    "    model = Sequential()\n",
    "    model.add(embedding_layer_fixed)\n",
    "    model.add(Conv1D(32, 3, activation='relu'))\n",
    "    model.add(MaxPool1D(pool_size=2))\n",
    "    model.add(Conv1D(32, 3, activation='relu'))\n",
    "    model.add(MaxPool1D(pool_size=2))\n",
    "    model.add(Conv1D(32, 2, activation='relu'))\n",
    "    model.add(MaxPool1D(pool_size=2))\n",
    "    model.add(Conv1D(16, 2, activation='relu'))\n",
    "    model.add(MaxPool1D(pool_size=2))\n",
    "    model.add(Flatten())\n",
    "    model.add(Dense(32, activation = 'relu'))\n",
    "    model.add(Dense(1,activation='sigmoid'))\n",
    "    model.compile(optimizer=adam, loss='binary_crossentropy', metrics=['acc', recall_m])\n",
    "    return model, '4 Layer CNN, K=3, Reduced Filters'\n"
   ]
  },
  {
   "cell_type": "markdown",
   "metadata": {},
   "source": [
    "## Dropout:"
   ]
  },
  {
   "cell_type": "code",
   "execution_count": 37,
   "metadata": {},
   "outputs": [],
   "source": [
    "def cnn_four_layer_dropout():\n",
    "    model = None\n",
    "    model = Sequential()\n",
    "    model.add(embedding_layer_fixed)\n",
    "    model.add(Conv1D(128, 2, activation='relu'))\n",
    "    model.add(MaxPool1D(pool_size=2))\n",
    "    model.add(Dropout(0.2))\n",
    "    model.add(Conv1D(64, 2, activation='relu'))\n",
    "    model.add(MaxPool1D(pool_size=2))\n",
    "    model.add(Dropout(0.2))\n",
    "    model.add(Conv1D(32, 2, activation='relu'))\n",
    "    model.add(MaxPool1D(pool_size=2))\n",
    "    model.add(Dropout(0.2))\n",
    "    model.add(Conv1D(16, 2, activation='relu'))\n",
    "    model.add(MaxPool1D(pool_size=2))\n",
    "    model.add(Dropout(0.2))\n",
    "    model.add(Flatten())\n",
    "    model.add(Dense(32, activation = 'relu'))\n",
    "    model.add(Dense(1,activation='sigmoid'))\n",
    "    model.compile(optimizer=adam, loss='binary_crossentropy', metrics=['acc', recall_m])\n",
    "    return model, 'CNN With Dropout (rate = 0.2)'\n"
   ]
  },
  {
   "cell_type": "code",
   "execution_count": 38,
   "metadata": {},
   "outputs": [],
   "source": [
    "def cnn_four_layer_dropout_k3():\n",
    "    model = None\n",
    "    model = Sequential()\n",
    "    model.add(embedding_layer_fixed)\n",
    "    model.add(Conv1D(128, 3, activation='relu'))\n",
    "    model.add(MaxPool1D(pool_size=2))\n",
    "    model.add(Dropout(0.2))\n",
    "    model.add(Conv1D(64, 3, activation='relu'))\n",
    "    model.add(MaxPool1D(pool_size=2))\n",
    "    model.add(Dropout(0.2))\n",
    "    model.add(Conv1D(32, 3, activation='relu'))\n",
    "    model.add(MaxPool1D(pool_size=2))\n",
    "    model.add(Dropout(0.2))\n",
    "    model.add(Conv1D(16, 3, activation='relu'))\n",
    "    model.add(MaxPool1D(pool_size=2))\n",
    "    model.add(Dropout(0.2))\n",
    "    model.add(Flatten())\n",
    "    model.add(Dense(32, activation = 'relu'))\n",
    "    model.add(Dense(1,activation='sigmoid'))\n",
    "    model.compile(optimizer=adam, loss='binary_crossentropy', metrics=['acc', recall_m])\n",
    "    return model, 'CNN With Dropout, K=3 (rate = 0.2)'\n"
   ]
  },
  {
   "cell_type": "markdown",
   "metadata": {},
   "source": [
    "## Combine the effects of adding dropout and less filters per layer:"
   ]
  },
  {
   "cell_type": "code",
   "execution_count": 39,
   "metadata": {},
   "outputs": [],
   "source": [
    "def cnn_four_layer_dropout_k3_reduced_filters():\n",
    "    model = None\n",
    "    model = Sequential()\n",
    "    model.add(embedding_layer_fixed)\n",
    "    model.add(Conv1D(32, 3, activation='relu'))\n",
    "    model.add(MaxPool1D(pool_size=2))\n",
    "    model.add(Dropout(0.2))\n",
    "    model.add(Conv1D(32, 3, activation='relu'))\n",
    "    model.add(MaxPool1D(pool_size=2))\n",
    "    model.add(Dropout(0.2))\n",
    "    model.add(Conv1D(32, 3, activation='relu'))\n",
    "    model.add(MaxPool1D(pool_size=2))\n",
    "    model.add(Dropout(0.2))\n",
    "    model.add(Conv1D(32, 3, activation='relu'))\n",
    "    model.add(MaxPool1D(pool_size=2))\n",
    "    model.add(Dropout(0.2))\n",
    "    model.add(Flatten())\n",
    "    model.add(Dense(32, activation = 'relu'))\n",
    "    model.add(Dense(1,activation='sigmoid'))\n",
    "    model.compile(optimizer=adam, loss='binary_crossentropy', metrics=['acc', recall_m])\n",
    "    return model, 'CNN With Dropout, K=3, Less Filters'\n"
   ]
  },
  {
   "cell_type": "code",
   "execution_count": 40,
   "metadata": {},
   "outputs": [],
   "source": [
    "def cnn_four_layer_dropout_k2_reduced_filters():\n",
    "    model = None\n",
    "    model = Sequential()\n",
    "    model.add(embedding_layer_fixed)\n",
    "    model.add(Conv1D(32, 2, activation='relu'))\n",
    "    model.add(MaxPool1D(pool_size=2))\n",
    "    model.add(Dropout(0.2))\n",
    "    model.add(Conv1D(32, 2, activation='relu'))\n",
    "    model.add(MaxPool1D(pool_size=2))\n",
    "    model.add(Dropout(0.2))\n",
    "    model.add(Conv1D(32, 2, activation='relu'))\n",
    "    model.add(MaxPool1D(pool_size=2))\n",
    "    model.add(Dropout(0.2))\n",
    "    model.add(Conv1D(32, 2, activation='relu'))\n",
    "    model.add(MaxPool1D(pool_size=2))\n",
    "    model.add(Dropout(0.2))\n",
    "    model.add(Flatten())\n",
    "    model.add(Dense(32, activation = 'relu'))\n",
    "    model.add(Dense(1,activation='sigmoid'))\n",
    "    model.compile(optimizer=adam, loss='binary_crossentropy', metrics=['acc', recall_m])\n",
    "    return model, 'CNN With Dropout, K=2, Less Filters'\n"
   ]
  },
  {
   "cell_type": "markdown",
   "metadata": {},
   "source": [
    "## Adding kernel regularization:"
   ]
  },
  {
   "cell_type": "code",
   "execution_count": 41,
   "metadata": {},
   "outputs": [],
   "source": [
    "from keras import regularizers\n",
    "\n",
    "def cnn_four_layer_reg1():\n",
    "    model = None\n",
    "    model = Sequential()\n",
    "    model.add(embedding_layer_fixed)\n",
    "    model.add(Conv1D(128, 2, activation='relu', kernel_regularizer=regularizers.l1(0.001)))\n",
    "    model.add(MaxPool1D(pool_size=2))\n",
    "    #model.add(Dropout(0.2))\n",
    "    model.add(Conv1D(64, 2, activation='relu', kernel_regularizer=regularizers.l1(0.001)))\n",
    "    model.add(MaxPool1D(pool_size=2))\n",
    "    #model.add(Dropout(0.2))\n",
    "    model.add(Conv1D(32, 2, activation='relu', kernel_regularizer=regularizers.l1(0.001)))\n",
    "    model.add(MaxPool1D(pool_size=2))\n",
    "    #model.add(Dropout(0.2))\n",
    "    model.add(Conv1D(16, 2, activation='relu',kernel_regularizer=regularizers.l1(0.001)))\n",
    "    model.add(MaxPool1D(pool_size=2))\n",
    "    #model.add(Dropout(0.2))\n",
    "    model.add(Flatten())\n",
    "    model.add(Dense(32, activation = 'relu'))\n",
    "    model.add(Dense(1,activation='sigmoid'))\n",
    "    model.compile(optimizer=adam, loss='binary_crossentropy', metrics=['acc', recall_m])\n",
    "    return model, 'L1 Regularizer (0.001)'\n",
    "\n",
    "\n",
    "def cnn_four_layer_reg2():\n",
    "    model = None\n",
    "    model = Sequential()\n",
    "    model.add(embedding_layer_fixed)\n",
    "    model.add(Conv1D(128, 2, activation='relu', kernel_regularizer=regularizers.l2(0.001)))\n",
    "    model.add(MaxPool1D(pool_size=2))\n",
    "    #model.add(Dropout(0.2))\n",
    "    model.add(Conv1D(64, 2, activation='relu', kernel_regularizer=regularizers.l2(0.001)))\n",
    "    model.add(MaxPool1D(pool_size=2))\n",
    "    #model.add(Dropout(0.2))\n",
    "    model.add(Conv1D(32, 2, activation='relu', kernel_regularizer=regularizers.l2(0.001)))\n",
    "    model.add(MaxPool1D(pool_size=2))\n",
    "    #model.add(Dropout(0.2))\n",
    "    model.add(Conv1D(16, 2, activation='relu',kernel_regularizer=regularizers.l2(0.001)))\n",
    "    model.add(MaxPool1D(pool_size=2))\n",
    "    #model.add(Dropout(0.2))\n",
    "    model.add(Flatten())\n",
    "    model.add(Dense(32, activation = 'relu'))\n",
    "    model.add(Dense(1,activation='sigmoid'))\n",
    "    model.compile(optimizer=adam, loss='binary_crossentropy', metrics=['acc', recall_m])\n",
    "    return model, 'CNN, L2 Regularizer (0.001)'\n",
    "\n",
    "\n",
    "def cnn_four_layer_reg2a():\n",
    "    model = None\n",
    "    model = Sequential()\n",
    "    model.add(embedding_layer_fixed)\n",
    "    model.add(Conv1D(128, 2, activation='relu', kernel_regularizer=regularizers.l2(0.01)))\n",
    "    model.add(MaxPool1D(pool_size=2))\n",
    "    #model.add(Dropout(0.2))\n",
    "    model.add(Conv1D(64, 2, activation='relu', kernel_regularizer=regularizers.l2(0.01)))\n",
    "    model.add(MaxPool1D(pool_size=2))\n",
    "    #model.add(Dropout(0.2))\n",
    "    model.add(Conv1D(32, 2, activation='relu', kernel_regularizer=regularizers.l2(0.01)))\n",
    "    model.add(MaxPool1D(pool_size=2))\n",
    "    #model.add(Dropout(0.2))\n",
    "    model.add(Conv1D(16, 2, activation='relu',kernel_regularizer=regularizers.l2(0.01)))\n",
    "    model.add(MaxPool1D(pool_size=2))\n",
    "    #model.add(Dropout(0.2))\n",
    "    model.add(Flatten())\n",
    "    model.add(Dense(32, activation = 'relu'))\n",
    "    model.add(Dense(1,activation='sigmoid'))\n",
    "    model.compile(optimizer=adam, loss='binary_crossentropy', metrics=['acc', recall_m])\n",
    "    return model, 'CNN, L2 Regularizer (0.01)'\n",
    "\n",
    "\n"
   ]
  },
  {
   "cell_type": "markdown",
   "metadata": {},
   "source": [
    "## Running cross validation (10-fold) on all models):"
   ]
  },
  {
   "cell_type": "code",
   "execution_count": 42,
   "metadata": {},
   "outputs": [
    {
     "name": "stderr",
     "output_type": "stream",
     "text": [
      "W0803 22:58:00.628780 4633568704 deprecation_wrapper.py:119] From /Library/Frameworks/Python.framework/Versions/3.7/lib/python3.7/site-packages/keras/backend/tensorflow_backend.py:517: The name tf.placeholder is deprecated. Please use tf.compat.v1.placeholder instead.\n",
      "\n",
      "W0803 22:58:00.631024 4633568704 deprecation_wrapper.py:119] From /Library/Frameworks/Python.framework/Versions/3.7/lib/python3.7/site-packages/keras/backend/tensorflow_backend.py:4138: The name tf.random_uniform is deprecated. Please use tf.random.uniform instead.\n",
      "\n",
      "W0803 22:58:00.638427 4633568704 deprecation_wrapper.py:119] From /Library/Frameworks/Python.framework/Versions/3.7/lib/python3.7/site-packages/keras/backend/tensorflow_backend.py:174: The name tf.get_default_session is deprecated. Please use tf.compat.v1.get_default_session instead.\n",
      "\n",
      "W0803 22:58:00.639303 4633568704 deprecation_wrapper.py:119] From /Library/Frameworks/Python.framework/Versions/3.7/lib/python3.7/site-packages/keras/backend/tensorflow_backend.py:181: The name tf.ConfigProto is deprecated. Please use tf.compat.v1.ConfigProto instead.\n",
      "\n",
      "W0803 22:58:00.716293 4633568704 deprecation_wrapper.py:119] From /Library/Frameworks/Python.framework/Versions/3.7/lib/python3.7/site-packages/keras/backend/tensorflow_backend.py:3976: The name tf.nn.max_pool is deprecated. Please use tf.nn.max_pool2d instead.\n",
      "\n",
      "W0803 22:58:00.746499 4633568704 deprecation_wrapper.py:119] From /Library/Frameworks/Python.framework/Versions/3.7/lib/python3.7/site-packages/keras/optimizers.py:790: The name tf.train.Optimizer is deprecated. Please use tf.compat.v1.train.Optimizer instead.\n",
      "\n",
      "W0803 22:58:00.754223 4633568704 deprecation.py:323] From /Library/Frameworks/Python.framework/Versions/3.7/lib/python3.7/site-packages/tensorflow/python/ops/nn_impl.py:180: add_dispatch_support.<locals>.wrapper (from tensorflow.python.ops.array_ops) is deprecated and will be removed in a future version.\n",
      "Instructions for updating:\n",
      "Use tf.where in 2.0, which has the same broadcast rule as np.where\n"
     ]
    },
    {
     "name": "stdout",
     "output_type": "stream",
     "text": [
      "Acc: 80.09% (+/- 0.96%)\n",
      "Recall: 46.71% (+/- 5.38%)\n",
      "Acc: 79.52% (+/- 1.23%)\n",
      "Recall: 46.59% (+/- 5.29%)\n",
      "Acc: 79.37% (+/- 0.89%)\n",
      "Recall: 38.33% (+/- 7.33%)\n",
      "Acc: 79.84% (+/- 0.86%)\n",
      "Recall: 49.82% (+/- 4.21%)\n",
      "Acc: 79.82% (+/- 0.84%)\n",
      "Recall: 37.49% (+/- 7.80%)\n",
      "Acc: 79.51% (+/- 1.09%)\n",
      "Recall: 39.58% (+/- 3.10%)\n",
      "Acc: 79.79% (+/- 1.35%)\n",
      "Recall: 48.13% (+/- 3.03%)\n",
      "Acc: 80.37% (+/- 0.62%)\n",
      "Recall: 45.70% (+/- 3.62%)\n",
      "Acc: 79.02% (+/- 2.16%)\n",
      "Recall: 48.47% (+/- 9.77%)\n",
      "Acc: 78.16% (+/- 1.21%)\n",
      "Recall: 46.47% (+/- 3.30%)\n",
      "Acc: 79.02% (+/- 0.64%)\n",
      "Recall: 46.97% (+/- 5.45%)\n",
      "Acc: 77.11% (+/- 2.13%)\n",
      "Recall: 52.53% (+/- 3.62%)\n"
     ]
    }
   ],
   "source": [
    "cross_val(cnn_one_layer(), padded_tweets, label_binary)\n",
    "cross_val(cnn_two_layer(), padded_tweets, label_binary)\n",
    "cross_val(cnn_three_layer(), padded_tweets, label_binary)\n",
    "cross_val(cnn_four_layer(), padded_tweets, label_binary)\n",
    "\n",
    "cross_val(cnn_four_layer_less(),padded_tweets,label_binary)\n",
    "cross_val(cnn_four_layer_trainable(), padded_tweets, label_binary)\n",
    "cross_val(cnn_four_layer_dropout(), padded_tweets, label_binary)\n",
    "cross_val(cnn_four_layer_reg1(), padded_tweets, label_binary)\n",
    "cross_val(cnn_four_layer_reg2(), padded_tweets, label_binary)\n",
    "cross_val(cnn_four_layer_reg2a(), padded_tweets, label_binary)\n",
    "\n",
    "cross_val(cnn_one_layer_k3(), padded_tweets, label_binary)\n",
    "cross_val(cnn_two_layer_k3(), padded_tweets, label_binary)\n",
    "cross_val(cnn_three_layer_k3(), padded_tweets, label_binary)\n",
    "cross_val(cnn_four_layer_k3(), padded_tweets, label_binary)\n",
    "cross_val(cnn_four_layer_k3_less(), padded_tweets, label_binary)\n",
    "\n",
    "cross_val(cnn_four_layer_dropout_k3(), padded_tweets, label_binary)\n",
    "cross_val(cnn_four_layer_dropout_k3_reduced_filters(), padded_tweets, label_binary)\n"
   ]
  },
  {
   "cell_type": "code",
   "execution_count": 47,
   "metadata": {},
   "outputs": [
    {
     "name": "stdout",
     "output_type": "stream",
     "text": [
      "Acc: 78.72% (+/- 1.28%)\n",
      "Recall: 54.47% (+/- 4.76%)\n"
     ]
    }
   ],
   "source": [
    "cross_val(cnn_four_layer_dropout_k2_reduced_filters(), padded_tweets, label_binary)\n"
   ]
  },
  {
   "cell_type": "markdown",
   "metadata": {},
   "source": [
    "## This function will return the prediction from a given model, given a tweet to classify:"
   ]
  },
  {
   "cell_type": "code",
   "execution_count": 35,
   "metadata": {},
   "outputs": [],
   "source": [
    "def predict_tweet(text, model):\n",
    "    text = clean_txt(text)\n",
    "    encoded = tokenizer.texts_to_sequences([text])\n",
    "    padded_tweet = pad_sequences(encoded, maxlen=50, padding='post')\n",
    "    if model.predict_classes(padded_tweet)[0][0] == 0:\n",
    "        print('No depressive sentiment detected')\n",
    "    else:\n",
    "        print('Depressive sentiment detected')\n"
   ]
  },
  {
   "cell_type": "markdown",
   "metadata": {},
   "source": [
    "## Produce graphs for analysis:"
   ]
  },
  {
   "cell_type": "code",
   "execution_count": 48,
   "metadata": {},
   "outputs": [
    {
     "name": "stderr",
     "output_type": "stream",
     "text": [
      "W0802 18:38:34.558035 4635030976 legend.py:1282] No handles with labels found to put in legend.\n"
     ]
    },
    {
     "data": {
      "image/png": "[encoded data removed]",
      "text/plain": [
       "<Figure size 432x288 with 1 Axes>"
      ]
     },
     "metadata": {
      "needs_background": "light"
     },
     "output_type": "display_data"
    }
   ],
   "source": [
    "#all models\n",
    "import matplotlib.pyplot as plt\n",
    "x = [1,2,3,4,5,6,7,8,9,10,11,12,13,14,15,16,17, 18]\n",
    "#plt.plot(x, model_acc, 'bo', label='Accuracy')\n",
    "#plt.plot(x, model_recall, 'ro', label='Recall')\n",
    "plt.errorbar(x, model_acc, yerr=model_acc_conf, fmt = 'bo')\n",
    "plt.errorbar(x, model_recall, yerr=model_recall_conf, fmt = 'ro')\n",
    "plt.xticks(x,model_names,rotation='vertical')\n",
    "plt.title('At a Glance: All CNN Models')\n",
    "plt.ylabel('%')\n",
    "plt.legend()\n",
    "plt.show()"
   ]
  },
  {
   "cell_type": "code",
   "execution_count": 49,
   "metadata": {},
   "outputs": [
    {
     "name": "stderr",
     "output_type": "stream",
     "text": [
      "W0802 18:38:41.027858 4635030976 legend.py:1282] No handles with labels found to put in legend.\n"
     ]
    },
    {
     "data": {
      "image/png": "[encoded data removed]",
      "text/plain": [
       "<Figure size 432x288 with 1 Axes>"
      ]
     },
     "metadata": {
      "needs_background": "light"
     },
     "output_type": "display_data"
    }
   ],
   "source": [
    "#Kernel size comparison\n",
    "x = [1,2,3,4,5,6,7,8]\n",
    "#plt.plot(x, model_recall[0:4] +model_recall[10:14], 'ro', label='Recall')\n",
    "plt.errorbar(x, model_recall[0:4] +model_recall[10:14], yerr=model_recall_conf[0:4] + model_recall_conf[10:14], fmt = 'ro')\n",
    "plt.xticks(x,model_names[0:4] + model_names[10:14],rotation='vertical')\n",
    "plt.title('Kernel Size Comparison: 2 vs 3')\n",
    "plt.ylabel('Recall (%)')\n",
    "plt.legend()\n",
    "plt.show()"
   ]
  },
  {
   "cell_type": "code",
   "execution_count": 50,
   "metadata": {},
   "outputs": [
    {
     "name": "stderr",
     "output_type": "stream",
     "text": [
      "W0802 18:39:03.178001 4635030976 legend.py:1282] No handles with labels found to put in legend.\n"
     ]
    },
    {
     "data": {
      "image/png": "[encoded data removed]",
      "text/plain": [
       "<Figure size 432x288 with 1 Axes>"
      ]
     },
     "metadata": {
      "needs_background": "light"
     },
     "output_type": "display_data"
    }
   ],
   "source": [
    "#Kernel size comparison\n",
    "x = [1,2,3,4,5,6,7,8]\n",
    "plt.errorbar(x, model_recall[0:4] +model_recall[10:14], yerr=model_recall_conf[0:4] + model_recall_conf[10:14], fmt = 'ro')\n",
    "plt.xticks(x,model_names[0:4] + model_names[10:14],rotation='vertical')\n",
    "plt.title('Kernel Size Comparison: 2 vs 3')\n",
    "plt.ylabel('Recall (%)')\n",
    "plt.legend()\n",
    "plt.show()"
   ]
  },
  {
   "cell_type": "code",
   "execution_count": null,
   "metadata": {},
   "outputs": [],
   "source": [
    "#Trainable embeddings"
   ]
  },
  {
   "cell_type": "code",
   "execution_count": 51,
   "metadata": {},
   "outputs": [
    {
     "name": "stderr",
     "output_type": "stream",
     "text": [
      "W0802 18:39:05.897974 4635030976 legend.py:1282] No handles with labels found to put in legend.\n"
     ]
    },
    {
     "data": {
      "image/png": "[encoded data removed]",
      "text/plain": [
       "<Figure size 432x288 with 1 Axes>"
      ]
     },
     "metadata": {
      "needs_background": "light"
     },
     "output_type": "display_data"
    }
   ],
   "source": [
    "x = [2,3]\n",
    "plt.errorbar(x,[ model_recall[3]] + [model_recall[5]], yerr=[model_recall_conf[3]] + [model_recall_conf[5]], fmt = 'ro')\n",
    "plt.xticks(x,[model_names[3]] + [model_names[5]],rotation='vertical')\n",
    "plt.title('Embedding Layer: GloVe Pretrained vs. Trainable Embeddings')\n",
    "plt.ylabel('Recall (%)')\n",
    "plt.legend()\n",
    "plt.show()"
   ]
  },
  {
   "cell_type": "code",
   "execution_count": 52,
   "metadata": {},
   "outputs": [
    {
     "name": "stderr",
     "output_type": "stream",
     "text": [
      "W0802 18:39:10.464236 4635030976 legend.py:1282] No handles with labels found to put in legend.\n"
     ]
    },
    {
     "data": {
      "image/png": "[encoded data removed]",
      "text/plain": [
       "<Figure size 432x288 with 1 Axes>"
      ]
     },
     "metadata": {
      "needs_background": "light"
     },
     "output_type": "display_data"
    }
   ],
   "source": [
    "x = [1,2,3,4]\n",
    "plt.errorbar(x,[ model_recall[3]] + [model_recall[4]]+[ model_recall[13]] + [model_recall[14]], yerr=[model_recall_conf[3]] + [model_recall_conf[4]]+[model_recall_conf[13]] + [model_recall_conf[4]], fmt = 'ro')\n",
    "plt.xticks(x,[model_names[3]] + [model_names[4]]+[model_names[13]] + [model_names[14]],rotation='vertical')\n",
    "plt.title('Reducing # Filters Per Layer')\n",
    "plt.ylabel('Recall (%)')\n",
    "plt.legend()\n",
    "plt.show()"
   ]
  },
  {
   "cell_type": "code",
   "execution_count": 53,
   "metadata": {},
   "outputs": [
    {
     "name": "stderr",
     "output_type": "stream",
     "text": [
      "W0802 18:39:24.665111 4635030976 legend.py:1282] No handles with labels found to put in legend.\n"
     ]
    },
    {
     "data": {
      "image/png": "[encoded data removed]",
      "text/plain": [
       "<Figure size 432x288 with 1 Axes>"
      ]
     },
     "metadata": {
      "needs_background": "light"
     },
     "output_type": "display_data"
    }
   ],
   "source": [
    "x = [1,2,3,4]\n",
    "plt.errorbar(x,[ model_recall[3]] + [model_recall[7]]+[ model_recall[8]] + [model_recall[9]], yerr=[model_recall_conf[3]] + [model_recall_conf[7]]+[model_recall_conf[8]] + [model_recall_conf[9]], fmt = 'ro')\n",
    "plt.xticks(x,[model_names[3]] + [model_names[7]]+[model_names[8]] + [model_names[9]],rotation='vertical')\n",
    "plt.title('Adding Kernel Regularization')\n",
    "plt.ylabel('Recall (%)')\n",
    "plt.legend()\n",
    "plt.show()"
   ]
  },
  {
   "cell_type": "code",
   "execution_count": 54,
   "metadata": {},
   "outputs": [
    {
     "name": "stderr",
     "output_type": "stream",
     "text": [
      "W0802 18:39:33.192553 4635030976 legend.py:1282] No handles with labels found to put in legend.\n"
     ]
    },
    {
     "data": {
      "image/png": "[encoded data removed]",
      "text/plain": [
       "<Figure size 432x288 with 1 Axes>"
      ]
     },
     "metadata": {
      "needs_background": "light"
     },
     "output_type": "display_data"
    }
   ],
   "source": [
    "x = [1,2,3,4]\n",
    "plt.errorbar(x,[ model_recall[3]] + [model_recall[6]]+[ model_recall[13]] + [model_recall[15]], yerr=[model_recall_conf[3]] + [model_recall_conf[6]]+[model_recall_conf[13]] + [model_recall_conf[15]], fmt = 'ro')\n",
    "plt.xticks(x,[model_names[3]] + [model_names[6]]+[model_names[13]] + [model_names[15]],rotation='vertical')\n",
    "plt.title('Adding Dropout Layers')\n",
    "plt.ylabel('Recall (%)')\n",
    "plt.legend()\n",
    "plt.show()"
   ]
  },
  {
   "cell_type": "code",
   "execution_count": 55,
   "metadata": {},
   "outputs": [
    {
     "name": "stderr",
     "output_type": "stream",
     "text": [
      "W0802 18:39:37.222864 4635030976 legend.py:1282] No handles with labels found to put in legend.\n"
     ]
    },
    {
     "data": {
      "image/png": "[encoded data removed]",
      "text/plain": [
       "<Figure size 432x288 with 1 Axes>"
      ]
     },
     "metadata": {
      "needs_background": "light"
     },
     "output_type": "display_data"
    }
   ],
   "source": [
    "x = [1,2,3,4,5,6]\n",
    "plt.errorbar(x,[ model_recall[3]]+[model_recall[4]] + [model_recall[17]]+[ model_recall[13]]+[model_recall[14]] + [model_recall[16]], yerr=[model_recall_conf[3]] + [model_recall_conf[4]]+[model_recall_conf[17]]+[model_recall_conf[13]] +[model_recall_conf[14]] + [model_recall_conf[16]], fmt = 'ro')\n",
    "plt.xticks(x,[model_names[3]] + [model_names[4]]+[model_names[17]]+[model_names[13]] + [model_names[14]]+[model_names[16]],rotation='vertical')\n",
    "plt.title('Reduced to 32 Filters / Layer, With & Without Dropout Layer')\n",
    "plt.ylabel('Recall (%)')\n",
    "plt.legend()\n",
    "plt.show()"
   ]
  },
  {
   "cell_type": "markdown",
   "metadata": {},
   "source": [
    "## Examine highest performaning models with class weight parameter:\n",
    "Change class_weight parameter from none to {0:1.,1:3.} to examine model performance"
   ]
  },
  {
   "cell_type": "code",
   "execution_count": 59,
   "metadata": {},
   "outputs": [
    {
     "name": "stdout",
     "output_type": "stream",
     "text": [
      "Acc: 65.06% (+/- 5.49%)\n",
      "Recall: 82.30% (+/- 7.03%)\n",
      "Acc: 68.96% (+/- 4.51%)\n",
      "Recall: 77.67% (+/- 7.16%)\n"
     ]
    }
   ],
   "source": [
    "#cross_val(cnn_four_layer_dropout_k2_reduced_filters(), padded_tweets, label_binary, class_weight = {0:1.,1:3.})\n",
    "#cross_val(cnn_four_layer_dropout_k3_reduced_filters(), padded_tweets, label_binary, class_weight = {0:1.,1:3.})\n",
    "cross_val(cnn_four_layer_dropout_k2_reduced_filters(), padded_tweets, label_binary, class_weight = {0:1.,1:10.})\n",
    "cross_val(cnn_four_layer_dropout_k3_reduced_filters(), padded_tweets, label_binary, class_weight = {0:1.,1:10.})"
   ]
  },
  {
   "cell_type": "code",
   "execution_count": 71,
   "metadata": {},
   "outputs": [
    {
     "data": {
      "text/plain": [
       "[79.2489167208504,\n",
       " 79.86037553619408,\n",
       " 80.39480020291656,\n",
       " 78.31006256042907,\n",
       " 78.72412131764766,\n",
       " 80.08666345977875,\n",
       " 79.51853634476605,\n",
       " 79.37409726197065,\n",
       " 79.84111698189204,\n",
       " 79.81704381692276,\n",
       " 79.51372171802822,\n",
       " 79.78815598963084,\n",
       " 80.37072701585024,\n",
       " 79.01781414154348,\n",
       " 78.16080886811434,\n",
       " 79.02262877717752,\n",
       " 77.10640344759796,\n",
       " 78.72412132855268,\n",
       " 73.24506497893933,\n",
       " 73.32209915855381,\n",
       " 65.06499759411663,\n",
       " 68.96485314096002]"
      ]
     },
     "execution_count": 71,
     "metadata": {},
     "output_type": "execute_result"
    }
   ],
   "source": [
    "model_acc\n"
   ]
  },
  {
   "cell_type": "code",
   "execution_count": 68,
   "metadata": {},
   "outputs": [
    {
     "name": "stderr",
     "output_type": "stream",
     "text": [
      "W0802 19:07:09.927226 4635030976 legend.py:1282] No handles with labels found to put in legend.\n"
     ]
    },
    {
     "data": {
      "image/png": "[encoded data removed]",
      "text/plain": [
       "<Figure size 432x288 with 1 Axes>"
      ]
     },
     "metadata": {
      "needs_background": "light"
     },
     "output_type": "display_data"
    }
   ],
   "source": [
    "x = [1,2,3,4,5,6]\n",
    "plt.errorbar(x,[model_acc[17]]+[model_acc[18]]+[model_acc[20]] + [model_acc[16]]+[model_acc[19]]+[model_acc[21]], yerr=[model_acc_conf[17]] + [model_acc_conf[18]]+ [model_acc_conf[20]]+[model_acc_conf[16]]+[model_acc_conf[19]]+ [model_acc_conf[21]],  fmt = 'bo')\n",
    "plt.errorbar(x,[model_recall[17]]+[model_recall[18]]+[model_recall[20]] + [model_recall[16]]+[model_recall[19]]+[model_recall[21]], yerr=[model_recall_conf[17]] + [model_recall_conf[18]]+ [model_recall_conf[20]]+[model_recall_conf[16]]+[model_recall_conf[19]]+ [model_recall_conf[21]],  fmt = 'ro')\n",
    "plt.xticks(x,[model_names[17]] + ['K2 Model, Class Weight 1:3'] + ['K2 Model, Class Weight 1:10']+[model_names[16]]+['K3 model, Class weight 1:3'] + ['K3 model, Class weight 1:10'] ,rotation='vertical')\n",
    "plt.title('Effect of class_weights on CNN Model Performance')\n",
    "plt.ylabel('Recall (%)')\n",
    "plt.legend()\n",
    "plt.show()"
   ]
  },
  {
   "cell_type": "code",
   "execution_count": null,
   "metadata": {},
   "outputs": [],
   "source": []
  }
 ],
 "metadata": {
  "hide_input": false,
  "kernelspec": {
   "display_name": "Python 3",
   "language": "python",
   "name": "python3"
  },
  "language_info": {
   "codemirror_mode": {
    "name": "ipython",
    "version": 3
   },
   "file_extension": ".py",
   "mimetype": "text/x-python",
   "name": "python",
   "nbconvert_exporter": "python",
   "pygments_lexer": "ipython3",
   "version": "3.7.4"
  },
  "toc": {
   "base_numbering": 1,
   "nav_menu": {},
   "number_sections": true,
   "sideBar": true,
   "skip_h1_title": false,
   "title_cell": "Table of Contents",
   "title_sidebar": "Contents",
   "toc_cell": false,
   "toc_position": {},
   "toc_section_display": true,
   "toc_window_display": false
  },
  "varInspector": {
   "cols": {
    "lenName": 16,
    "lenType": 16,
    "lenVar": 40
   },
   "kernels_config": {
    "python": {
     "delete_cmd_postfix": "",
     "delete_cmd_prefix": "del ",
     "library": "var_list.py",
     "varRefreshCmd": "print(var_dic_list())"
    },
    "r": {
     "delete_cmd_postfix": ") ",
     "delete_cmd_prefix": "rm(",
     "library": "var_list.r",
     "varRefreshCmd": "cat(var_dic_list()) "
    }
   },
   "types_to_exclude": [
    "module",
    "function",
    "builtin_function_or_method",
    "instance",
    "_Feature"
   ],
   "window_display": false
  }
 },
 "nbformat": 4,
 "nbformat_minor": 2
}
