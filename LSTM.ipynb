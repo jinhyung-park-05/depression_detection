{
 "cells": [
  {
   "cell_type": "markdown",
   "metadata": {},
   "source": [
    "If the Glove file is not in the directory. Otherwise skip the command line section."
   ]
  },
  {
   "cell_type": "code",
   "execution_count": null,
   "metadata": {},
   "outputs": [],
   "source": [
    "!wget \"http://nlp.stanford.edu/data/glove.twitter.27B.zip\"\n",
    "!unzip -j glove.twitter.27B.zip"
   ]
  },
  {
   "cell_type": "code",
   "execution_count": 1,
   "metadata": {
    "pycharm": {
     "is_executing": false
    }
   },
   "outputs": [
    {
     "name": "stderr",
     "output_type": "stream",
     "text": [
      "Using TensorFlow backend.\n"
     ]
    }
   ],
   "source": [
    "import pandas as pd\n",
    "import glob\n",
    "import json\n",
    "import numpy as np\n",
    "import nltk\n",
    "from keras.preprocessing.text import Tokenizer\n",
    "from keras.preprocessing.sequence import pad_sequences\n",
    "from keras.preprocessing.text import one_hot\n",
    "from keras.models import Sequential\n",
    "from keras.layers import Dense\n",
    "from keras.layers import Flatten\n",
    "from keras.layers import Conv1D\n",
    "from keras.layers import MaxPool1D\n",
    "from keras.layers import LSTM\n",
    "from keras.layers import Bidirectional\n",
    "from keras.layers import Dropout\n",
    "from keras.layers import SpatialDropout1D\n",
    "from keras.layers import Dropout\n",
    "from keras.callbacks import EarlyStopping\n",
    "from keras.layers.embeddings import Embedding\n",
    "from sklearn.model_selection import train_test_split\n",
    "from sklearn.model_selection import StratifiedKFold"
   ]
  },
  {
   "cell_type": "code",
   "execution_count": 2,
   "metadata": {},
   "outputs": [],
   "source": [
    "classified = pd.read_csv('cleaned_data.csv')"
   ]
  },
  {
   "cell_type": "code",
   "execution_count": 3,
   "metadata": {},
   "outputs": [],
   "source": [
    "classified = classified[['label','text']]\n",
    "classified.text = classified.text.astype(str)"
   ]
  },
  {
   "cell_type": "markdown",
   "metadata": {},
   "source": [
    "Use GloVe pretrained embeddings to seed embedding layer weights. Load GloVe weights trained on twitter dataset."
   ]
  },
  {
   "cell_type": "code",
   "execution_count": 4,
   "metadata": {},
   "outputs": [
    {
     "name": "stdout",
     "output_type": "stream",
     "text": [
      "Loaded 1193514 word vectors.\n"
     ]
    }
   ],
   "source": [
    "embeddings_idx = dict()\n",
    "glove_file = open('glove.twitter.27B.100d.txt')\n",
    "for line in glove_file:\n",
    "    values = line.split()\n",
    "    word = values[0]\n",
    "    coefs = np.asarray(values[1:], dtype='float32')\n",
    "    embeddings_idx[word] = coefs\n",
    "glove_file.close()\n",
    "print('Loaded %s word vectors.' % len(embeddings_idx))"
   ]
  },
  {
   "cell_type": "markdown",
   "metadata": {},
   "source": [
    "For simplicity, clump \"depressed\" and \"suicidal\" labels into one category (can refine this in future models/iteration; for first iteration, use binary classification):"
   ]
  },
  {
   "cell_type": "code",
   "execution_count": 6,
   "metadata": {},
   "outputs": [
    {
     "data": {
      "text/plain": [
       "array([0., 1.])"
      ]
     },
     "execution_count": 6,
     "metadata": {},
     "output_type": "execute_result"
    }
   ],
   "source": [
    "text = np.asarray(classified.text)\n",
    "label_binary = classified.label.replace(to_replace=3, value=1)\n",
    "label = np.asarray(classified.label)\n",
    "\n",
    "np.unique(label_binary)"
   ]
  },
  {
   "cell_type": "markdown",
   "metadata": {},
   "source": [
    "Tokenize tweet texts. Use a max sentence length of 50 (with char limit of 280 and cleaning, this seems reasonable - by observation, most tweets still require padding), and pad all tweets out to this length:"
   ]
  },
  {
   "cell_type": "code",
   "execution_count": 7,
   "metadata": {},
   "outputs": [],
   "source": [
    "tokenizer = Tokenizer()\n",
    "tokenizer.fit_on_texts(text)\n",
    "vocab_size = len(tokenizer.word_index) + 1\n",
    "# integer encode the documents\n",
    "encoded = tokenizer.texts_to_sequences(text)\n",
    "# pad documents to a max length of 4 words\n",
    "max_length = 50\n",
    "padded_tweets = pad_sequences(encoded, maxlen=max_length, padding='post')"
   ]
  },
  {
   "cell_type": "code",
   "execution_count": 8,
   "metadata": {
    "scrolled": true
   },
   "outputs": [
    {
     "data": {
      "text/plain": [
       "array([[   9,    8,  814, ...,    0,    0,    0],\n",
       "       [  34,   88,   90, ...,    0,    0,    0],\n",
       "       [  14,  100,   53, ...,    0,    0,    0],\n",
       "       ...,\n",
       "       [  31,   18,  787, ...,    0,    0,    0],\n",
       "       [ 693,  197,   12, ...,    0,    0,    0],\n",
       "       [ 382,   10, 1009, ...,    0,    0,    0]], dtype=int32)"
      ]
     },
     "execution_count": 8,
     "metadata": {},
     "output_type": "execute_result"
    }
   ],
   "source": [
    "padded_tweets"
   ]
  },
  {
   "cell_type": "markdown",
   "metadata": {},
   "source": [
    "Split into train/test set of 90%/10%. These sets end up going unused, due to the cross fold validation, which splits the full dataset many times over."
   ]
  },
  {
   "cell_type": "code",
   "execution_count": 9,
   "metadata": {},
   "outputs": [],
   "source": [
    "text_train, text_test, label_train, label_test = train_test_split(padded_tweets, label_binary, test_size = 0.1, random_state = 0)"
   ]
  },
  {
   "cell_type": "markdown",
   "metadata": {},
   "source": [
    "Split train set into train/validate. These sets end up going unused, due to the cross fold validation."
   ]
  },
  {
   "cell_type": "code",
   "execution_count": 10,
   "metadata": {},
   "outputs": [],
   "source": [
    "text_train, text_val, label_train, label_val = train_test_split(text_train, label_train, test_size = 0.2, random_state = 0)"
   ]
  },
  {
   "cell_type": "markdown",
   "metadata": {},
   "source": [
    "Initialize embedding matrix to seed embedding weights from the loaded GloVe embeddings:"
   ]
  },
  {
   "cell_type": "code",
   "execution_count": 11,
   "metadata": {},
   "outputs": [],
   "source": [
    "embedding_matrix = np.zeros((vocab_size, 100))\n",
    "for word, i in tokenizer.word_index.items():\n",
    "    embedding_vector = embeddings_idx.get(word)\n",
    "    if embedding_vector is not None:\n",
    "        embedding_matrix[i] = embedding_vector"
   ]
  },
  {
   "cell_type": "markdown",
   "metadata": {},
   "source": [
    "Recall is extremely useful in such a problem where all efforts to avert a potential suicide is of utmost importance"
   ]
  },
  {
   "cell_type": "code",
   "execution_count": 12,
   "metadata": {},
   "outputs": [],
   "source": [
    "from keras import backend as K\n",
    "\n",
    "def recall_m(y_true, y_pred):\n",
    "        true_positives = K.sum(K.round(K.clip(y_true * y_pred, 0, 1)))\n",
    "        possible_positives = K.sum(K.round(K.clip(y_true, 0, 1)))\n",
    "        recall = true_positives / (possible_positives + K.epsilon())\n",
    "        return recall"
   ]
  },
  {
   "cell_type": "markdown",
   "metadata": {},
   "source": [
    "K-fold cross validation was used to establish more confidence in the validation accuracy and validation recall for the model; the function below defined as cross_val(model) calculates an average validation accuracy and validation recall for the model over a k-way split of the data, along with a confidence interval. Due to computational resource limitations, as LSTM training requires a large amount of time, k is set to 4.\n",
    "\n",
    "\n",
    "Add the data for each model along with model names, so that models can be compared, to lists."
   ]
  },
  {
   "cell_type": "code",
   "execution_count": 28,
   "metadata": {},
   "outputs": [],
   "source": [
    "model_names = {}\n",
    "model_acc = {}\n",
    "model_recall = {}\n",
    "model_acc_conf = {}\n",
    "model_recall_conf = {}"
   ]
  },
  {
   "cell_type": "code",
   "execution_count": 29,
   "metadata": {},
   "outputs": [],
   "source": [
    "callbacks = [EarlyStopping(monitor='val_loss', patience=3)]\n",
    "\n",
    "def train_model(model, text_train=text_train, label_train=label_train, text_val=text_val, label_val=label_val, callbacks = callbacks, verbose = 1, class_weight = None):\n",
    "        history = model.fit(text_train, label_train, batch_size = 32, validation_data = (text_val, label_val), epochs = 50, callbacks = callbacks, verbose = verbose, class_weight = class_weight)\n",
    "        return history\n",
    "\n",
    "skf = StratifiedKFold(n_splits = 4)\n",
    "\n",
    "\n",
    "\n",
    "\n",
    "def cross_val(model, text, label, callbacks = callbacks, skf = skf, verbose = 0, class_weight = None):\n",
    "    cvaccscores = []\n",
    "    cvrecscores = []\n",
    "    for TRAIN, TEST in skf.split(text, label):\n",
    "        text_train, text_val = text[TRAIN], text[TEST]\n",
    "        label_train, label_val = label[TRAIN], label[TEST]\n",
    "        history = train_model(model[0], verbose = verbose, class_weight = class_weight)\n",
    "        val_recall = history.history['val_recall_m'][-1]*100\n",
    "        val_acc = history.history['val_acc'][-1]*100\n",
    "        print(\"Acc:{}\".format(val_acc))\n",
    "        print(\"Recall:{}\".format(val_recall))\n",
    "        cvrecscores.append(val_recall)\n",
    "        cvaccscores.append(val_acc)\n",
    "\n",
    "    print(\"Acc_overall: %.2f%% (+/- %.2f%%)\" % (np.mean(cvaccscores), np.std(cvaccscores)))\n",
    "    print(\"Recall_overall: %.2f%% (+/- %.2f%%)\" % (np.mean(cvrecscores), np.std(cvrecscores)))\n",
    "    model_acc[model[1]]= np.mean(cvaccscores)\n",
    "    model_acc_conf[model[1]] = np.std(cvaccscores)\n",
    "    model_recall[model[1]]= np.mean(cvrecscores)\n",
    "    model_recall_conf[model[1]]= np.std(cvrecscores)\n",
    "        "
   ]
  },
  {
   "cell_type": "markdown",
   "metadata": {},
   "source": [
    "# LSTM"
   ]
  },
  {
   "cell_type": "code",
   "execution_count": 21,
   "metadata": {},
   "outputs": [],
   "source": [
    "def lstm_50_no_dropout_one_dense():\n",
    "    model = Sequential()\n",
    "    model.add(Embedding(vocab_size, 100, weights=[embedding_matrix], input_length=50, trainable=False))\n",
    "    model.add(LSTM(50))\n",
    "    model.add(Dense(1, activation='sigmoid'))\n",
    "    model.compile(loss='binary_crossentropy', optimizer='adam', metrics=['accuracy',recall_m ])\n",
    "    return model, 'LSTM 50 Units No Dropout and One Dense Layer'\n",
    "\n",
    "def lstm_75_no_dropout_one_dense():\n",
    "    model = Sequential()\n",
    "    model.add(Embedding(vocab_size, 100, weights=[embedding_matrix], input_length=50, trainable=False))\n",
    "    model.add(LSTM(75))\n",
    "    model.add(Dense(1, activation='sigmoid'))\n",
    "    model.compile(loss='binary_crossentropy', optimizer='adam', metrics=['accuracy',recall_m ])\n",
    "    return model, 'LSTM 75 Units No Dropout and One Dense Layer'\n",
    "\n",
    "def lstm_50_0_2_dropout_one_dense():\n",
    "    model = Sequential()\n",
    "    model.add(Embedding(vocab_size, 100, weights=[embedding_matrix], input_length=50, trainable=False))\n",
    "    model.add(SpatialDropout1D(0.2))\n",
    "    model.add(LSTM(50, dropout = 0.2, recurrent_dropout=0.2))\n",
    "    model.add(Dense(1, activation='sigmoid'))\n",
    "    model.compile(loss='binary_crossentropy', optimizer='adam', metrics=['accuracy',recall_m ])\n",
    "    return model, 'LSTM 50 Units 0.2 Dropout and One Dense Layer'\n",
    "\n",
    "def lstm_75_0_2_dropout_one_dense():\n",
    "    model = Sequential()\n",
    "    model.add(Embedding(vocab_size, 100, weights=[embedding_matrix], input_length=50, trainable=False))\n",
    "    model.add(SpatialDropout1D(0.2))\n",
    "    model.add(LSTM(75, dropout = 0.2, recurrent_dropout=0.2))\n",
    "    model.add(Dense(1, activation='sigmoid'))\n",
    "    model.compile(loss='binary_crossentropy', optimizer='adam', metrics=['accuracy',recall_m ])\n",
    "    return model, 'LSTM 75 Units 0.2 Dropout and One Dense Layer'\n",
    "\n",
    "\n",
    "def lstm_75_0_2_dropout_two_dense():\n",
    "    model = Sequential()\n",
    "    model.add(Embedding(vocab_size, 100, weights=[embedding_matrix], input_length=50, trainable=False))\n",
    "    model.add(SpatialDropout1D(0.2))\n",
    "    model.add(LSTM(75, dropout = 0.2, recurrent_dropout=0.2))\n",
    "    model.add(Dense(10, activation='relu'))\n",
    "    model.add(Dropout(0.2))\n",
    "    model.add(Dense(1, activation='sigmoid'))\n",
    "    model.compile(loss='binary_crossentropy', optimizer='adam', metrics=['accuracy',recall_m ])\n",
    "    return model, 'LSTM 75 Units 0.2 Dropout and Two Dense Layer'\n",
    "\n",
    "def lstm_50_0_2_dropout_two_dense():\n",
    "    model = Sequential()\n",
    "    model.add(Embedding(vocab_size, 100, weights=[embedding_matrix], input_length=50, trainable=False))\n",
    "    model.add(SpatialDropout1D(0.2))\n",
    "    model.add(LSTM(50, dropout = 0.2, recurrent_dropout=0.2))\n",
    "    model.add(Dense(10, activation='relu'))\n",
    "    model.add(Dropout(0.2))\n",
    "    model.add(Dense(1, activation='sigmoid'))\n",
    "    model.compile(loss='binary_crossentropy', optimizer='adam', metrics=['accuracy',recall_m ])\n",
    "    return model, 'LSTM 50 Units 0.2 Dropout and Two Dense Layer'\n",
    "\n",
    "\n",
    "def bi_lstm_50_0_2_dropout_one_dense():\n",
    "    model = Sequential()\n",
    "    model.add(Embedding(vocab_size, 100, weights=[embedding_matrix], input_length=50, trainable=False))\n",
    "    model.add(SpatialDropout1D(0.2))\n",
    "    model.add(Bidirectional(LSTM(50, dropout = 0.2, recurrent_dropout=0.2)))\n",
    "    model.add(Dense(1, activation='sigmoid'))\n",
    "    model.compile(loss='binary_crossentropy', optimizer='adam', metrics=['accuracy',recall_m ])\n",
    "    return model, 'Bidirectional LSTM 50 Units 0.2 Dropout and One Dense Layer'\n",
    "\n",
    "def bi_lstm_75_0_2_dropout_one_dense():\n",
    "    model = Sequential()\n",
    "    model.add(Embedding(vocab_size, 100, weights=[embedding_matrix], input_length=50, trainable=False))\n",
    "    model.add(SpatialDropout1D(0.2))\n",
    "    model.add(Bidirectional(LSTM(75, dropout = 0.2, recurrent_dropout=0.2)))\n",
    "    model.add(Dense(1, activation='sigmoid'))\n",
    "    model.compile(loss='binary_crossentropy', optimizer='adam', metrics=['accuracy',recall_m ])\n",
    "    return model, 'Bidirectional LSTM 75 Units 0.2 Dropout and One Dense Layer'\n",
    "\n",
    "def bi_lstm_50_0_2_dropout_two_dense():\n",
    "    model = Sequential()\n",
    "    model.add(Embedding(vocab_size, 100, weights=[embedding_matrix], input_length=50, trainable=False))\n",
    "    model.add(SpatialDropout1D(0.2))\n",
    "    model.add(Bidirectional(LSTM(50, dropout = 0.2, recurrent_dropout=0.2)))\n",
    "    model.add(Dense(10, activation='relu'))\n",
    "    model.add(Dropout(0.2))\n",
    "    model.add(Dense(1, activation='sigmoid'))\n",
    "    model.compile(loss='binary_crossentropy', optimizer='adam', metrics=['accuracy',recall_m ])\n",
    "    return model, 'Bidirectional LSTM 50 Units 0.2 Dropout and Two Dense Layer'\n",
    "\n",
    "def bi_lstm_75_0_2_dropout_two_dense():\n",
    "    model = Sequential()\n",
    "    model.add(Embedding(vocab_size, 100, weights=[embedding_matrix], input_length=50, trainable=False))\n",
    "    model.add(SpatialDropout1D(0.2))\n",
    "    model.add(Bidirectional(LSTM(75, dropout = 0.2, recurrent_dropout=0.2)))\n",
    "    model.add(Dense(10, activation='relu'))\n",
    "    model.add(Dropout(0.2))\n",
    "    model.add(Dense(1, activation='sigmoid'))\n",
    "    model.compile(loss='binary_crossentropy', optimizer='adam', metrics=['accuracy',recall_m ])\n",
    "    return model, 'Bidirectional LSTM 75 Units 0.2 Dropout and Two Dense Layer'\n"
   ]
  },
  {
   "cell_type": "code",
   "execution_count": 43,
   "metadata": {},
   "outputs": [
    {
     "name": "stderr",
     "output_type": "stream",
     "text": [
      "W0803 16:03:06.501801 4506400192 deprecation.py:506] From /Library/Frameworks/Python.framework/Versions/3.7/lib/python3.7/site-packages/keras/backend/tensorflow_backend.py:3445: calling dropout (from tensorflow.python.ops.nn_ops) with keep_prob is deprecated and will be removed in a future version.\n",
      "Instructions for updating:\n",
      "Please use `rate` instead of `keep_prob`. Rate should be set to `rate = 1 - keep_prob`.\n"
     ]
    },
    {
     "name": "stdout",
     "output_type": "stream",
     "text": [
      "Acc:79.48964851144764\n",
      "Recall:50.10478821119897\n",
      "Acc:80.01925855171928\n",
      "Recall:47.23585286448079\n",
      "Acc:80.30813671558823\n",
      "Recall:50.270661078913605\n",
      "Acc:81.60808862087873\n",
      "Recall:44.949476504819465\n",
      "Acc_overall: 80.36% (+/- 0.78%)\n",
      "Recall_overall: 48.14% (+/- 2.20%)\n",
      "Acc:80.50072223278096\n",
      "Recall:40.67082244384501\n",
      "Acc:80.21184398568934\n",
      "Recall:47.27394667794398\n",
      "Acc:81.12662494555653\n",
      "Recall:44.48035223356622\n",
      "Acc:79.44150217232591\n",
      "Recall:58.56863113051145\n",
      "Acc_overall: 80.32% (+/- 0.61%)\n",
      "Recall_overall: 47.75% (+/- 6.67%)\n",
      "Acc:79.39335581311596\n",
      "Recall:0.0\n",
      "Acc:79.15262396254101\n",
      "Recall:38.571664468565984\n",
      "Acc:79.24891666661217\n",
      "Recall:34.3223626862137\n",
      "Acc:79.10447759759155\n",
      "Recall:50.07524779626941\n",
      "Acc_overall: 79.22% (+/- 0.11%)\n",
      "Recall_overall: 30.74% (+/- 18.66%)\n",
      "Acc:80.25999035063877\n",
      "Recall:51.11305177297854\n",
      "Acc:81.07847861217431\n",
      "Recall:32.594884033092924\n",
      "Acc:79.77852670114432\n",
      "Recall:53.07855233872918\n",
      "Acc:80.2599903764665\n",
      "Recall:53.330494801356465\n",
      "Acc_overall: 80.34% (+/- 0.47%)\n",
      "Recall_overall: 47.53% (+/- 8.66%)\n",
      "Acc:81.9451131238694\n",
      "Recall:43.47848448836006\n",
      "Acc:81.36735674447606\n",
      "Recall:45.70984213353351\n",
      "Acc:80.45257584200378\n",
      "Recall:54.717762489185695\n",
      "Acc:80.9821858564477\n",
      "Recall:55.22971883322909\n",
      "Acc_overall: 81.19% (+/- 0.55%)\n",
      "Recall_overall: 49.78% (+/- 5.25%)\n",
      "Acc:81.2710640719721\n",
      "Recall:42.739740334053025\n",
      "Acc:81.75252769563883\n",
      "Recall:43.621259821569\n",
      "Acc:81.80067405484878\n",
      "Recall:45.78024529182515\n",
      "Acc:81.41550313525322\n",
      "Recall:47.653944143952806\n",
      "Acc_overall: 81.56% (+/- 0.22%)\n",
      "Recall_overall: 44.95% (+/- 1.91%)\n",
      "Acc:82.47472319570825\n",
      "Recall:37.050638993198504\n",
      "Acc:81.27106401457715\n",
      "Recall:46.48018406455655\n",
      "Acc:80.16369767813482\n",
      "Recall:53.80680279543495\n",
      "Acc:81.41550316682043\n",
      "Recall:45.27891181269459\n",
      "Acc_overall: 81.33% (+/- 0.82%)\n",
      "Recall_overall: 45.65% (+/- 5.94%)\n",
      "Acc:82.08955221871774\n",
      "Recall:38.53451704887111\n",
      "Acc:78.671160364702\n",
      "Recall:59.36272258246582\n",
      "Acc:80.30813674715544\n",
      "Recall:49.18018402132669\n",
      "Acc:80.69330769257874\n",
      "Recall:50.21901670188702\n",
      "Acc_overall: 80.44% (+/- 1.22%)\n",
      "Recall_overall: 49.32% (+/- 7.38%)\n"
     ]
    }
   ],
   "source": [
    "cross_val(lstm_50_0_2_dropout_one_dense(), padded_tweets, label_binary)\n",
    "cross_val(lstm_75_0_2_dropout_one_dense(), padded_tweets, label_binary)\n",
    "cross_val(lstm_75_0_2_dropout_two_dense(), padded_tweets, label_binary)\n",
    "cross_val(lstm_50_0_2_dropout_two_dense(), padded_tweets, label_binary)\n",
    "cross_val(bi_lstm_50_0_2_dropout_one_dense(), padded_tweets, label_binary)\n",
    "cross_val(bi_lstm_75_0_2_dropout_one_dense(), padded_tweets, label_binary)\n",
    "cross_val(bi_lstm_50_0_2_dropout_two_dense(), padded_tweets, label_binary)\n",
    "cross_val(bi_lstm_75_0_2_dropout_two_dense(), padded_tweets, label_binary)\n"
   ]
  },
  {
   "cell_type": "code",
   "execution_count": 44,
   "metadata": {},
   "outputs": [
    {
     "name": "stderr",
     "output_type": "stream",
     "text": [
      "W0803 16:48:04.621299 4506400192 legend.py:1289] No handles with labels found to put in legend.\n"
     ]
    },
    {
     "data": {
      "image/png": "[encoded data removed]",
      "text/plain": [
       "<Figure size 432x288 with 1 Axes>"
      ]
     },
     "metadata": {
      "needs_background": "light"
     },
     "output_type": "display_data"
    }
   ],
   "source": [
    "#all models\n",
    "import matplotlib.pyplot as plt\n",
    "\n",
    "model_acc_list = []\n",
    "model_acc_conf_list = []\n",
    "model_recall_list = []\n",
    "model_recall_conf_list = []\n",
    "model_names = []\n",
    "\n",
    "for name in model_acc:\n",
    "    model_acc_list.append(model_acc[name])\n",
    "    model_acc_conf_list.append(model_acc_conf[name])\n",
    "    model_recall_list.append(model_recall[name])\n",
    "    model_recall_conf_list.append(model_recall_conf[name])\n",
    "    model_names.append(name)\n",
    "\n",
    "x = list(range(0,len(model_names)))\n",
    "#plt.plot(x, model_acc, 'bo', label='Accuracy')\n",
    "#plt.plot(x, model_recall, 'ro', label='Recall')\n",
    "plt.errorbar(x, model_acc_list, yerr=model_acc_conf_list, fmt = 'bo')\n",
    "plt.errorbar(x, model_recall_list, yerr=model_recall_conf_list, fmt = 'ro')\n",
    "plt.xticks(x,model_names,rotation='vertical')\n",
    "plt.title('All single layer LSTM models')\n",
    "plt.ylabel('%')\n",
    "plt.legend()\n",
    "plt.show()"
   ]
  },
  {
   "cell_type": "markdown",
   "metadata": {},
   "source": [
    "Try Class weight for the best performing models. Classweight of 1:3 first"
   ]
  },
  {
   "cell_type": "code",
   "execution_count": 49,
   "metadata": {},
   "outputs": [
    {
     "name": "stdout",
     "output_type": "stream",
     "text": [
      "Acc:74.38613388420127\n",
      "Recall:70.80832452916387\n",
      "Acc:76.31198842478419\n",
      "Recall:71.63307922759995\n",
      "Acc:76.0712566574319\n",
      "Recall:65.84869053539428\n",
      "Acc:77.75637943066252\n",
      "Recall:64.80444934601157\n",
      "Acc_overall: 76.13% (+/- 1.20%)\n",
      "Recall_overall: 68.27% (+/- 2.98%)\n",
      "Acc:71.01588828608459\n",
      "Recall:77.28389878656408\n",
      "Acc:72.21954743564847\n",
      "Recall:74.42201757637652\n",
      "Acc:76.93789117486648\n",
      "Recall:67.38974447427142\n",
      "Acc:71.97881563672895\n",
      "Recall:74.39187196337609\n",
      "Acc_overall: 73.04% (+/- 2.30%)\n",
      "Recall_overall: 73.37% (+/- 3.65%)\n",
      "Acc:71.11218101598348\n",
      "Recall:75.32972667615574\n",
      "Acc:70.43813188086351\n",
      "Recall:82.6429948361378\n",
      "Acc:76.93789119495472\n",
      "Recall:70.71675230633713\n",
      "Acc:70.43813193251896\n",
      "Recall:81.81621760890411\n",
      "Acc_overall: 72.23% (+/- 2.73%)\n",
      "Recall_overall: 77.63% (+/- 4.89%)\n"
     ]
    }
   ],
   "source": [
    "model_names = {}\n",
    "model_acc = {}\n",
    "model_recall = {}\n",
    "model_acc_conf = {}\n",
    "model_recall_conf = {}\n",
    "\n",
    "cross_val(bi_lstm_75_0_2_dropout_two_dense(), padded_tweets, label_binary, class_weight = {0:1.,1:3.})\n",
    "cross_val(bi_lstm_50_0_2_dropout_one_dense(), padded_tweets, label_binary, class_weight = {0:1.,1:3.})\n",
    "cross_val(lstm_50_0_2_dropout_one_dense(), padded_tweets, label_binary, class_weight = {0:1.,1:3.})"
   ]
  },
  {
   "cell_type": "code",
   "execution_count": 50,
   "metadata": {},
   "outputs": [
    {
     "name": "stderr",
     "output_type": "stream",
     "text": [
      "W0803 18:03:11.178001 4506400192 legend.py:1289] No handles with labels found to put in legend.\n"
     ]
    },
    {
     "data": {
      "image/png": "[encoded data removed]",
      "text/plain": [
       "<Figure size 432x288 with 1 Axes>"
      ]
     },
     "metadata": {
      "needs_background": "light"
     },
     "output_type": "display_data"
    }
   ],
   "source": [
    "model_acc_list = []\n",
    "model_acc_conf_list = []\n",
    "model_recall_list = []\n",
    "model_recall_conf_list = []\n",
    "model_names = []\n",
    "\n",
    "for name in model_acc:\n",
    "    model_acc_list.append(model_acc[name])\n",
    "    model_acc_conf_list.append(model_acc_conf[name])\n",
    "    model_recall_list.append(model_recall[name])\n",
    "    model_recall_conf_list.append(model_recall_conf[name])\n",
    "    model_names.append(name)\n",
    "\n",
    "x = list(range(0,len(model_names)))\n",
    "#plt.plot(x, model_acc, 'bo', label='Accuracy')\n",
    "#plt.plot(x, model_recall, 'ro', label='Recall')\n",
    "plt.errorbar(x, model_acc_list, yerr=model_acc_conf_list, fmt = 'bo')\n",
    "plt.errorbar(x, model_recall_list, yerr=model_recall_conf_list, fmt = 'ro')\n",
    "plt.xticks(x,model_names,rotation='vertical')\n",
    "plt.title('Best perfoming LSTM models with class weight 1:3')\n",
    "plt.ylabel('%')\n",
    "plt.legend()\n",
    "plt.show()"
   ]
  },
  {
   "cell_type": "code",
   "execution_count": 51,
   "metadata": {},
   "outputs": [
    {
     "name": "stdout",
     "output_type": "stream",
     "text": [
      "Acc:52.81656232084514\n",
      "Recall:95.4821662370207\n",
      "Acc:66.10495904115284\n",
      "Recall:83.87196742403547\n",
      "Acc:56.23495428391128\n",
      "Recall:92.21940653566334\n",
      "Acc:68.51227728288565\n",
      "Recall:82.13093839818949\n",
      "Acc_overall: 60.92% (+/- 6.56%)\n",
      "Recall_overall: 88.43% (+/- 5.58%)\n",
      "Acc:64.08281171327609\n",
      "Recall:86.68126963513025\n",
      "Acc:66.58642274230274\n",
      "Recall:83.31194116797192\n",
      "Acc:65.71978814738499\n",
      "Recall:84.3531253192077\n",
      "Acc:65.91237360718276\n",
      "Recall:83.08859844878137\n",
      "Acc_overall: 65.58% (+/- 0.92%)\n",
      "Recall_overall: 84.36% (+/- 1.42%)\n",
      "Acc:55.94607603681966\n",
      "Recall:94.45504375415521\n",
      "Acc:62.78285991129648\n",
      "Recall:90.54360736374908\n",
      "Acc:65.43090992612109\n",
      "Recall:87.14493240481337\n",
      "Acc:65.67164180826326\n",
      "Recall:85.40677239129218\n",
      "Acc_overall: 62.46% (+/- 3.93%)\n",
      "Recall_overall: 89.39% (+/- 3.46%)\n"
     ]
    }
   ],
   "source": [
    "model_names = {}\n",
    "model_acc = {}\n",
    "model_recall = {}\n",
    "model_acc_conf = {}\n",
    "model_recall_conf = {}\n",
    "\n",
    "cross_val(bi_lstm_75_0_2_dropout_two_dense(), padded_tweets, label_binary, class_weight = {0:1.,1:6.})\n",
    "cross_val(bi_lstm_50_0_2_dropout_one_dense(), padded_tweets, label_binary, class_weight = {0:1.,1:6.})\n",
    "cross_val(lstm_50_0_2_dropout_one_dense(), padded_tweets, label_binary, class_weight = {0:1.,1:6.})"
   ]
  },
  {
   "cell_type": "code",
   "execution_count": 52,
   "metadata": {},
   "outputs": [
    {
     "name": "stderr",
     "output_type": "stream",
     "text": [
      "W0803 18:18:07.381018 4506400192 legend.py:1289] No handles with labels found to put in legend.\n"
     ]
    },
    {
     "data": {
      "image/png": "[encoded data removed]",
      "text/plain": [
       "<Figure size 432x288 with 1 Axes>"
      ]
     },
     "metadata": {
      "needs_background": "light"
     },
     "output_type": "display_data"
    }
   ],
   "source": [
    "model_acc_list = []\n",
    "model_acc_conf_list = []\n",
    "model_recall_list = []\n",
    "model_recall_conf_list = []\n",
    "model_names = []\n",
    "\n",
    "for name in model_acc:\n",
    "    model_acc_list.append(model_acc[name])\n",
    "    model_acc_conf_list.append(model_acc_conf[name])\n",
    "    model_recall_list.append(model_recall[name])\n",
    "    model_recall_conf_list.append(model_recall_conf[name])\n",
    "    model_names.append(name)\n",
    "\n",
    "x = list(range(0,len(model_names)))\n",
    "#plt.plot(x, model_acc, 'bo', label='Accuracy')\n",
    "#plt.plot(x, model_recall, 'ro', label='Recall')\n",
    "plt.errorbar(x, model_acc_list, yerr=model_acc_conf_list, fmt = 'bo')\n",
    "plt.errorbar(x, model_recall_list, yerr=model_recall_conf_list, fmt = 'ro')\n",
    "plt.xticks(x,model_names,rotation='vertical')\n",
    "plt.title('Best perfoming LSTM models with class weight 1:10')\n",
    "plt.ylabel('%')\n",
    "plt.legend()\n",
    "plt.show()"
   ]
  },
  {
   "cell_type": "code",
   "execution_count": null,
   "metadata": {},
   "outputs": [],
   "source": []
  },
  {
   "cell_type": "code",
   "execution_count": null,
   "metadata": {},
   "outputs": [],
   "source": []
  }
 ],
 "metadata": {
  "hide_input": false,
  "kernelspec": {
   "display_name": "Python 3",
   "language": "python",
   "name": "python3"
  },
  "language_info": {
   "codemirror_mode": {
    "name": "ipython",
    "version": 3
   },
   "file_extension": ".py",
   "mimetype": "text/x-python",
   "name": "python",
   "nbconvert_exporter": "python",
   "pygments_lexer": "ipython3",
   "version": "3.7.4"
  },
  "pycharm": {
   "stem_cell": {
    "cell_type": "raw",
    "metadata": {
     "collapsed": false
    },
    "source": []
   }
  },
  "toc": {
   "base_numbering": 1,
   "nav_menu": {},
   "number_sections": true,
   "sideBar": true,
   "skip_h1_title": false,
   "title_cell": "Table of Contents",
   "title_sidebar": "Contents",
   "toc_cell": false,
   "toc_position": {},
   "toc_section_display": true,
   "toc_window_display": false
  },
  "varInspector": {
   "cols": {
    "lenName": 16,
    "lenType": 16,
    "lenVar": 40
   },
   "kernels_config": {
    "python": {
     "delete_cmd_postfix": "",
     "delete_cmd_prefix": "del ",
     "library": "var_list.py",
     "varRefreshCmd": "print(var_dic_list())"
    },
    "r": {
     "delete_cmd_postfix": ") ",
     "delete_cmd_prefix": "rm(",
     "library": "var_list.r",
     "varRefreshCmd": "cat(var_dic_list()) "
    }
   },
   "types_to_exclude": [
    "module",
    "function",
    "builtin_function_or_method",
    "instance",
    "_Feature"
   ],
   "window_display": false
  }
 },
 "nbformat": 4,
 "nbformat_minor": 2
}
